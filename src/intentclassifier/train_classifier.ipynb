{
 "cells": [
  {
   "cell_type": "code",
   "execution_count": 11,
   "metadata": {},
   "outputs": [],
   "source": [
    "import re\n",
    "import json\n",
    "import os\n",
    "import csv\n",
    "import sys\n",
    "from multiprocessing import Pool\n",
    "from nltk.tokenize import wordpunct_tokenize\n",
    "import numpy as np\n",
    "import random\n",
    "from gensim.models.wrappers.fasttext import FastText as FT_wrapper\n",
    "\n",
    "import pickle\n",
    "from pathlib import Path\n",
    "from pymystem3 import Mystem\n",
    "import pymorphy2\n",
    "\n",
    "morph = pymorphy2.MorphAnalyzer()\n",
    "m = Mystem()\n",
    "\n",
    "def mystem_analyze(str):\n",
    "    global m\n",
    "    try:\n",
    "        return m.analyze(str)\n",
    "    except BrokenPipeError as ex:\n",
    "        m = Mystem()\n",
    "        return mystem_analyze(str)\n",
    "    \n",
    "\n",
    "from sklearn.feature_extraction.text import TfidfVectorizer\n",
    "from sklearn.svm import LinearSVC\n",
    "from sklearn.pipeline import Pipeline\n",
    "\n",
    "from itertools import product\n",
    "\n",
    "csv.field_size_limit(sys.maxsize)\n",
    "\n",
    "DATASETS = Path('~/data/taskdialog').expanduser()\n",
    "MODELS = Path('~/data/taskdialog/models').expanduser()"
   ]
  },
  {
   "cell_type": "code",
   "execution_count": 2,
   "metadata": {},
   "outputs": [],
   "source": [
    "positives = []\n",
    "with (DATASETS / 'youdo.txt').open() as f:\n",
    "    csvr = csv.reader(f, delimiter=',')\n",
    "    for row in csvr:\n",
    "        t = '\\n'.join(' '.join(wordpunct_tokenize(l)) for l in row[1].strip().splitlines() if l)\n",
    "        positives.append(t)\n",
    "\n",
    "# with (DATASETS / 'test.tsv').open() as f:\n",
    "#     c = csv.reader(f, delimiter='\\t')\n",
    "#     for label, text in c:\n",
    "#         pass"
   ]
  },
  {
   "cell_type": "code",
   "execution_count": 5,
   "metadata": {},
   "outputs": [],
   "source": [
    "def to_imperative(word):\n",
    "    try:\n",
    "        p = [pm for pm in morph.parse(word) if 'INFN' in pm.tag][0]\n",
    "    except IndexError as ex:\n",
    "        return\n",
    "    try:\n",
    "        sing = p.inflect({'VERB', 'perf', 'impr', 'excl', 'plur'}).word\n",
    "        plur = p.inflect({'VERB', 'perf', 'impr', 'excl'}).word\n",
    "        return (sing, plur)\n",
    "    except AttributeError as ex:\n",
    "        return\n",
    "    \n",
    "assert to_imperative('Совершить') == ('совершите', 'соверши')\n",
    "    \n",
    "words_of_need = {'необходимо', 'нужно'}\n",
    "\n",
    "def get_imperative_variants(text):\n",
    "    try:\n",
    "        words = []\n",
    "        isinf = []\n",
    "        for tok in mystem_analyze(text.lower()):\n",
    "            if 'analysis' in tok:\n",
    "                if len(tok['analysis']) >= 1:\n",
    "                    gram = tok['analysis'][0]['gr']\n",
    "                    infinitive = 'инф' in gram and 'V' in gram\n",
    "                    w = tok['text']\n",
    "                    words.append(w)\n",
    "                    isinf.append(infinitive)\n",
    "        if max(isinf) == False:\n",
    "            return text,\n",
    "        if isinf[0]:\n",
    "            variants = []\n",
    "            for w, v in zip(words, isinf):\n",
    "                if v:\n",
    "                    imp = to_imperative(w)\n",
    "                    variants.append(imp or (w, w))\n",
    "                else:\n",
    "                    variants.append((w, w))\n",
    "            sing, plur = zip(*variants)\n",
    "            return text, ' '.join(sing), ' '.join(plur)\n",
    "        elif words_of_need.intersection(words):\n",
    "            prev_word = ''\n",
    "            variants = []\n",
    "            used_imperative = False\n",
    "            for w, v in zip(words, isinf):\n",
    "                if v and prev_word in words_of_need:\n",
    "                    imp = to_imperative(w)\n",
    "                    if imp:\n",
    "                        variants.pop()\n",
    "                        variants.append(imp)\n",
    "                        used_imperative = True\n",
    "                    else:\n",
    "                        variants.append((w, w))\n",
    "\n",
    "                else:\n",
    "                    variants.append((w, w))\n",
    "                prev_word = w\n",
    "\n",
    "            if used_imperative:\n",
    "                sing, plur = zip(*variants)\n",
    "                return text, ' '.join(sing), ' '.join(plur)\n",
    "    except ValueError as ex:\n",
    "        pass\n",
    "    return text,\n",
    "        \n",
    "assert get_imperative_variants('нужно сделать хорошо')[1] == 'сделайте хорошо'\n",
    "assert get_imperative_variants('повертеть попой')[2] == 'поверти попой'\n",
    "assert len(get_imperative_variants('хорошо сделать')) == 1"
   ]
  },
  {
   "cell_type": "code",
   "execution_count": 22,
   "metadata": {},
   "outputs": [
    {
     "name": "stdout",
     "output_type": "stream",
     "text": [
      "CPU times: user 132 ms, sys: 498 ms, total: 630 ms\n",
      "Wall time: 5.5 s\n"
     ]
    }
   ],
   "source": [
    "%%time\n",
    "\n",
    "with Pool(processes=20) as pool:\n",
    "    res = pool.map(get_imperative_variants, positives[:20000])\n",
    "        "
   ]
  },
  {
   "cell_type": "code",
   "execution_count": 23,
   "metadata": {},
   "outputs": [
    {
     "data": {
      "text/plain": [
       "20000"
      ]
     },
     "execution_count": 23,
     "metadata": {},
     "output_type": "execute_result"
    }
   ],
   "source": [
    "len(res)"
   ]
  },
  {
   "cell_type": "code",
   "execution_count": null,
   "metadata": {},
   "outputs": [],
   "source": [
    "get_imperative_variants('Есть ложь , есть большая ложь , есть статистика , а есть реклама .')"
   ]
  },
  {
   "cell_type": "code",
   "execution_count": 106,
   "metadata": {},
   "outputs": [
    {
     "data": {
      "text/plain": [
       "[Parse(word='запостить', tag=OpencorporaTag('UNKN'), normal_form='запостить', score=1.0, methods_stack=((<UnknAnalyzer>, 'ить'), (<KnownPrefixAnalyzer>, 'пост'), (<KnownPrefixAnalyzer>, 'за')))]"
      ]
     },
     "execution_count": 106,
     "metadata": {},
     "output_type": "execute_result"
    }
   ],
   "source": [
    "morph.parse('запостить')"
   ]
  },
  {
   "cell_type": "code",
   "execution_count": 24,
   "metadata": {},
   "outputs": [],
   "source": [
    "a = '''Занимаюсь созданием сайта об ИКЕА .\n",
    "Требуются копирайтеры для наполнения сайта об ИКЕА .\n",
    "Статьи о категориях и товарах , 200р / 1000сим\n",
    "Работы много , общее число страниц более 200 .\n",
    "Объем 2000 на страницу .\n",
    "Проверяю и оплачиваю быстро и регулярно .\n",
    "За хорошую работу оставлю развернутый положительный отзыв , помещу в белый список .\n",
    "Предложу работу в дальнейшем по другим проектам с возможностью повышения оплаты .'''"
   ]
  },
  {
   "cell_type": "code",
   "execution_count": 25,
   "metadata": {},
   "outputs": [
    {
     "data": {
      "text/plain": [
       "415"
      ]
     },
     "execution_count": 25,
     "metadata": {},
     "output_type": "execute_result"
    }
   ],
   "source": [
    "train_text = []\n",
    "train_y = []\n",
    "train_features = []\n",
    "with (DATASETS / 'train4.tsv').open() as f:\n",
    "    c = csv.reader(f, delimiter='\\t')\n",
    "    for label, body in c:\n",
    "        body = body[:200]\n",
    "        if ' ' not in body:\n",
    "            continue\n",
    "        body = body[:body.rindex(' ')]\n",
    "#         train_features.append(features(body))\n",
    "        train_text.append(body)\n",
    "        train_y.append(int(label))\n",
    "\n",
    "test_text = []\n",
    "test_y = []\n",
    "test_features = []\n",
    "with (DATASETS / 'test4.tsv').open() as f:\n",
    "    c = csv.reader(f, delimiter='\\t')\n",
    "    for label, body in c:\n",
    "        body = body[:200]\n",
    "        if ' ' not in body:\n",
    "            continue\n",
    "        body = body[:body.rindex(' ')]\n",
    "#         test_features.append(features(body))\n",
    "        test_text.append(body)\n",
    "        test_y.append(int(label))"
   ]
  },
  {
   "cell_type": "code",
   "execution_count": null,
   "metadata": {},
   "outputs": [],
   "source": [
    "stopwords = '''форумчане\n",
    "форумчане\n",
    "simplexman\n",
    "saitov\n",
    "дрома\n",
    "drom\n",
    "quote\n",
    "дром\n",
    "професcиональный\n",
    "рекомендую\n",
    "советую\n",
    "взаимосвязями\n",
    "тебе\n",
    "загляни\n",
    "youdo\n",
    "фрилансеры'''.split('\\n')"
   ]
  },
  {
   "cell_type": "code",
   "execution_count": null,
   "metadata": {},
   "outputs": [],
   "source": [
    "%%time\n",
    "tfidf_path = MODELS / 'tfidf5.pickle'\n",
    "if tfidf_path.exists():\n",
    "    with tfidf_path.open('rb') as f:\n",
    "        tfidf = pickle.load(f)\n",
    "else:\n",
    "    tfidf = TfidfVectorizer(min_df=5, stop_words=stopwords)\n",
    "    tfidf.fit(train_text)\n",
    "    with tfidf_path.open('wb') as f:\n",
    "        pickle.dump(tfidf, f)\n",
    "\n",
    "train_X = tfidf.transform(train_text)\n",
    "test_X = tfidf.transform(test_text)"
   ]
  },
  {
   "cell_type": "code",
   "execution_count": null,
   "metadata": {},
   "outputs": [],
   "source": [
    "%%time\n",
    "\n",
    "classifier = LinearSVC()\n",
    "classifier.fit(train_X, train_y)"
   ]
  },
  {
   "cell_type": "code",
   "execution_count": null,
   "metadata": {},
   "outputs": [],
   "source": [
    "pipe = Pipeline([('vectorizer', tfidf),\n",
    "                 ('classifier', classifier)])\n",
    "with (MODELS / 'classifier5.pickle').open('wb') as f:\n",
    "    pickle.dump(pipe, f)"
   ]
  },
  {
   "cell_type": "code",
   "execution_count": null,
   "metadata": {},
   "outputs": [],
   "source": [
    "print('Accuracy  ', (classifier.predict(test_X) == test_y).mean(), (classifier.predict(train_X) == train_y).mean(), sep='\\t')\n",
    "test_pos = test_y == 1\n",
    "train_pos = train_y == 1\n",
    "print('Pos Accuracy', (classifier.predict(train_X[train_pos]) == train_y[train_pos]).mean(), (classifier.predict(test_X[test_pos]) == test_y[test_pos]).mean(), sep='\\t')\n",
    "print('Neg Accuracy', (classifier.predict(train_X[~train_pos]) == train_y[~train_pos]).mean(), (classifier.predict(test_X[~test_pos]) == test_y[~test_pos]).mean(), sep='\\t')\n"
   ]
  },
  {
   "cell_type": "code",
   "execution_count": null,
   "metadata": {},
   "outputs": [],
   "source": [
    "id2words = {i: w for w, i in tfidf.vocabulary_.items()}\n",
    "words = []\n",
    "for i in range(classifier.coef_.shape[1]):\n",
    "    words.append((id2words[i], classifier.coef_[0][i]))"
   ]
  },
  {
   "cell_type": "code",
   "execution_count": null,
   "metadata": {},
   "outputs": [],
   "source": [
    "importances = sorted(words, key=lambda x: x[1], reverse=True)\n",
    "\n",
    "importances[:1000]"
   ]
  }
 ],
 "metadata": {
  "kernelspec": {
   "display_name": "venv",
   "language": "python",
   "name": "venv"
  },
  "language_info": {
   "codemirror_mode": {
    "name": "ipython",
    "version": 3
   },
   "file_extension": ".py",
   "mimetype": "text/x-python",
   "name": "python",
   "nbconvert_exporter": "python",
   "pygments_lexer": "ipython3",
   "version": "3.5.2"
  }
 },
 "nbformat": 4,
 "nbformat_minor": 2
}
