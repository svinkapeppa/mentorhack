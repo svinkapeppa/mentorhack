{
 "cells": [
  {
   "cell_type": "code",
   "execution_count": 2,
   "metadata": {},
   "outputs": [],
   "source": [
    "import re\n",
    "import json\n",
    "import os\n",
    "import csv\n",
    "import sys\n",
    "\n",
    "from nltk.tokenize import wordpunct_tokenize\n",
    "import numpy as np\n",
    "import random\n",
    "from gensim.models.wrappers.fasttext import FastText as FT_wrapper\n",
    "\n",
    "import pickle\n",
    "from pathlib import Path\n",
    "\n",
    "from sklearn.feature_extraction.text import TfidfVectorizer\n",
    "from sklearn.svm import LinearSVC\n",
    "from sklearn.pipeline import Pipeline\n",
    "\n",
    "from pymystem3 import Mystem\n",
    "\n",
    "csv.field_size_limit(sys.maxsize)\n",
    "\n",
    "DATASETS = Path('~/data/taskdialog').expanduser()\n",
    "MODELS = Path('~/data/taskdialog/models').expanduser()"
   ]
  },
  {
   "cell_type": "code",
   "execution_count": null,
   "metadata": {},
   "outputs": [],
   "source": [
    "def extract_user(text):\n",
    "    return 'vad'\n",
    "\n",
    "def extract_date(text):\n",
    "    return datetime.now()\n",
    "\n",
    "def format_body(text):\n",
    "    return text"
   ]
  },
  {
   "cell_type": "markdown",
   "metadata": {},
   "source": [
    "Мне нужно, чтобы это было сделано через 2 дня\n",
    "ожидаю, что сегодня будет сделано\n",
    "нужно распарсить вс е форумы к завтрашнему дню\n",
    "назначим встречу на завтра\n",
    "послезавтра хочется, чтобы уже было\n",
    "к четвергу\n",
    "к следующей субботе\n",
    "к концу недели кто-нибудь сделает?\n",
    "дедлайн следующий понедельник\n",
    "даю на выполнение задачи 3 дня\n",
    "ожидаю, что это будет сделано к часу дня\n",
    "к концу месяца"
   ]
  },
  {
   "cell_type": "code",
   "execution_count": 3,
   "metadata": {},
   "outputs": [
    {
     "name": "stderr",
     "output_type": "stream",
     "text": [
      "Installing mystem to /home/marat/.local/bin/mystem from http://download.cdn.yandex.net/mystem/mystem-3.0-linux3.1-64bit.tar.gz\n"
     ]
    }
   ],
   "source": [
    "m = Mystem()"
   ]
  },
  {
   "cell_type": "code",
   "execution_count": 5,
   "metadata": {},
   "outputs": [],
   "source": [
    "\n",
    "lemmas = m.lemmatize(\"что бы сделать такого?\")"
   ]
  },
  {
   "cell_type": "code",
   "execution_count": 8,
   "metadata": {},
   "outputs": [
    {
     "data": {
      "text/plain": [
       "[{'analysis': [{'gr': 'ADV,прдк=', 'lex': 'нужно'}], 'text': 'нужно'},\n",
       " {'text': ' '},\n",
       " {'analysis': [{'gr': 'V,сов,пе=инф', 'lex': 'сделать'}], 'text': 'сделать'},\n",
       " {'text': ' '},\n",
       " {'analysis': [{'gr': 'ADV,обсц,прдк=', 'lex': 'заебись'}], 'text': 'заебись'},\n",
       " {'text': '\\n'}]"
      ]
     },
     "execution_count": 8,
     "metadata": {},
     "output_type": "execute_result"
    }
   ],
   "source": [
    "m.analyze('нужно сделать заебись')"
   ]
  },
  {
   "cell_type": "code",
   "execution_count": null,
   "metadata": {},
   "outputs": [],
   "source": [
    "m.start"
   ]
  }
 ],
 "metadata": {
  "kernelspec": {
   "display_name": "venv",
   "language": "python",
   "name": "venv"
  },
  "language_info": {
   "codemirror_mode": {
    "name": "ipython",
    "version": 3
   },
   "file_extension": ".py",
   "mimetype": "text/x-python",
   "name": "python",
   "nbconvert_exporter": "python",
   "pygments_lexer": "ipython3",
   "version": "3.5.2"
  }
 },
 "nbformat": 4,
 "nbformat_minor": 2
}
